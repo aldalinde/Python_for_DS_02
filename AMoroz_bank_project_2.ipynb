{
 "cells": [
  {
   "cell_type": "code",
   "execution_count": 1,
   "metadata": {},
   "outputs": [],
   "source": [
    "import numpy as np\n",
    "import pandas as pd"
   ]
  },
  {
   "cell_type": "code",
   "execution_count": 2,
   "metadata": {},
   "outputs": [],
   "source": [
    "from sklearn.metrics import f1_score, r2_score, precision_score, recall_score, classification_report\n",
    "from sklearn.model_selection import train_test_split\n",
    "from sklearn.linear_model import LinearRegression\n",
    "from sklearn.ensemble import RandomForestClassifier as rfc\n",
    "from sklearn.ensemble import RandomForestRegressor as rfr\n",
    "from sklearn.model_selection import GridSearchCV\n",
    "from sklearn.preprocessing import StandardScaler, MinMaxScaler\n",
    "from sklearn.utils.class_weight import compute_class_weight"
   ]
  },
  {
   "cell_type": "code",
   "execution_count": 3,
   "metadata": {},
   "outputs": [],
   "source": [
    "import xgboost as xgb, lightgbm as lgbm, catboost"
   ]
  },
  {
   "cell_type": "code",
   "execution_count": null,
   "metadata": {},
   "outputs": [],
   "source": []
  },
  {
   "cell_type": "markdown",
   "metadata": {},
   "source": [
    "\n",
    "def feature_predict(db_features, db_target):\n",
    "    X_train, X_test, y_train, y_test = train_test_split(db_features,\n",
    "                                                        db_target,  test_size=0.3, random_state=42)\n",
    "    lr = LinearRegression()\n",
    "    lr.fit(X_train, y_train)\n",
    "    y_predict = lr.predict(X_test)\n",
    "    yearsjob_predict = feature_predict(db_features,db_target)\n",
    "    years_predict = (round(i) for i in yearsjob_predict)\n",
    "    r2_score(y_test, years_predict)\n",
    "    return r2_score"
   ]
  },
  {
   "cell_type": "code",
   "execution_count": 4,
   "metadata": {},
   "outputs": [],
   "source": [
    "#download f1_score"
   ]
  },
  {
   "cell_type": "code",
   "execution_count": 5,
   "metadata": {},
   "outputs": [],
   "source": [
    "bank_db = pd.read_csv('D:/AI/_Python/Python_for_DS/course_project_train.csv')"
   ]
  },
  {
   "cell_type": "code",
   "execution_count": 6,
   "metadata": {},
   "outputs": [],
   "source": [
    "bank_db_test = pd.read_csv('D:/AI/_Python/Python_for_DS/course_project_test.csv')"
   ]
  },
  {
   "cell_type": "code",
   "execution_count": 7,
   "metadata": {},
   "outputs": [
    {
     "name": "stdout",
     "output_type": "stream",
     "text": [
      "<class 'pandas.core.frame.DataFrame'>\n",
      "RangeIndex: 7500 entries, 0 to 7499\n",
      "Data columns (total 17 columns):\n",
      "Home Ownership                  7500 non-null object\n",
      "Annual Income                   5943 non-null float64\n",
      "Years in current job            7129 non-null object\n",
      "Tax Liens                       7500 non-null float64\n",
      "Number of Open Accounts         7500 non-null float64\n",
      "Years of Credit History         7500 non-null float64\n",
      "Maximum Open Credit             7500 non-null float64\n",
      "Number of Credit Problems       7500 non-null float64\n",
      "Months since last delinquent    3419 non-null float64\n",
      "Bankruptcies                    7486 non-null float64\n",
      "Purpose                         7500 non-null object\n",
      "Term                            7500 non-null object\n",
      "Current Loan Amount             7500 non-null float64\n",
      "Current Credit Balance          7500 non-null float64\n",
      "Monthly Debt                    7500 non-null float64\n",
      "Credit Score                    5943 non-null float64\n",
      "Credit Default                  7500 non-null int64\n",
      "dtypes: float64(12), int64(1), object(4)\n",
      "memory usage: 996.2+ KB\n"
     ]
    }
   ],
   "source": [
    "bank_db.info()"
   ]
  },
  {
   "cell_type": "markdown",
   "metadata": {},
   "source": [
    "**выбросы**"
   ]
  },
  {
   "cell_type": "code",
   "execution_count": 8,
   "metadata": {},
   "outputs": [],
   "source": [
    "bank_db.loc[bank_db['Current Loan Amount'].between(50000000,100000000),\n",
    "            ['Current Loan Amount']] = bank_db['Current Loan Amount'].median() "
   ]
  },
  {
   "cell_type": "code",
   "execution_count": 9,
   "metadata": {},
   "outputs": [],
   "source": [
    "bank_db_test.loc[bank_db_test['Current Loan Amount'].between(50000000,100000000),\n",
    "                 ['Current Loan Amount']] = bank_db_test['Current Loan Amount'].median() \n"
   ]
  },
  {
   "cell_type": "code",
   "execution_count": 10,
   "metadata": {},
   "outputs": [],
   "source": [
    "bank_db.loc[bank_db['Maximum Open Credit'] >50000000, 'Maximum Open Credit'] = 50000000\n",
    "bank_db_test.loc[bank_db['Maximum Open Credit'] >50000000, 'Maximum Open Credit'] = 50000000"
   ]
  },
  {
   "cell_type": "code",
   "execution_count": 11,
   "metadata": {},
   "outputs": [
    {
     "data": {
      "text/html": [
       "<div>\n",
       "<style scoped>\n",
       "    .dataframe tbody tr th:only-of-type {\n",
       "        vertical-align: middle;\n",
       "    }\n",
       "\n",
       "    .dataframe tbody tr th {\n",
       "        vertical-align: top;\n",
       "    }\n",
       "\n",
       "    .dataframe thead th {\n",
       "        text-align: right;\n",
       "    }\n",
       "</style>\n",
       "<table border=\"1\" class=\"dataframe\">\n",
       "  <thead>\n",
       "    <tr style=\"text-align: right;\">\n",
       "      <th></th>\n",
       "      <th>Home Ownership</th>\n",
       "      <th>Annual Income</th>\n",
       "      <th>Years in current job</th>\n",
       "      <th>Tax Liens</th>\n",
       "      <th>Number of Open Accounts</th>\n",
       "      <th>Years of Credit History</th>\n",
       "      <th>Maximum Open Credit</th>\n",
       "      <th>Number of Credit Problems</th>\n",
       "      <th>Months since last delinquent</th>\n",
       "      <th>Bankruptcies</th>\n",
       "      <th>Purpose</th>\n",
       "      <th>Term</th>\n",
       "      <th>Current Loan Amount</th>\n",
       "      <th>Current Credit Balance</th>\n",
       "      <th>Monthly Debt</th>\n",
       "      <th>Credit Score</th>\n",
       "      <th>Credit Default</th>\n",
       "    </tr>\n",
       "  </thead>\n",
       "  <tbody>\n",
       "    <tr>\n",
       "      <th>44</th>\n",
       "      <td>Have Mortgage</td>\n",
       "      <td>1334256.0</td>\n",
       "      <td>10+ years</td>\n",
       "      <td>0.0</td>\n",
       "      <td>17.0</td>\n",
       "      <td>15.4</td>\n",
       "      <td>50000000.0</td>\n",
       "      <td>1.0</td>\n",
       "      <td>35.0</td>\n",
       "      <td>0.0</td>\n",
       "      <td>take a trip</td>\n",
       "      <td>Short Term</td>\n",
       "      <td>33110.0</td>\n",
       "      <td>656450.0</td>\n",
       "      <td>34357.0</td>\n",
       "      <td>729.0</td>\n",
       "      <td>0</td>\n",
       "    </tr>\n",
       "    <tr>\n",
       "      <th>617</th>\n",
       "      <td>Home Mortgage</td>\n",
       "      <td>NaN</td>\n",
       "      <td>3 years</td>\n",
       "      <td>0.0</td>\n",
       "      <td>13.0</td>\n",
       "      <td>27.5</td>\n",
       "      <td>50000000.0</td>\n",
       "      <td>0.0</td>\n",
       "      <td>NaN</td>\n",
       "      <td>0.0</td>\n",
       "      <td>debt consolidation</td>\n",
       "      <td>Short Term</td>\n",
       "      <td>529892.0</td>\n",
       "      <td>1126814.0</td>\n",
       "      <td>5492.0</td>\n",
       "      <td>NaN</td>\n",
       "      <td>0</td>\n",
       "    </tr>\n",
       "    <tr>\n",
       "      <th>2023</th>\n",
       "      <td>Rent</td>\n",
       "      <td>1342825.0</td>\n",
       "      <td>10+ years</td>\n",
       "      <td>0.0</td>\n",
       "      <td>12.0</td>\n",
       "      <td>16.3</td>\n",
       "      <td>50000000.0</td>\n",
       "      <td>0.0</td>\n",
       "      <td>NaN</td>\n",
       "      <td>0.0</td>\n",
       "      <td>other</td>\n",
       "      <td>Short Term</td>\n",
       "      <td>166826.0</td>\n",
       "      <td>944547.0</td>\n",
       "      <td>9176.0</td>\n",
       "      <td>749.0</td>\n",
       "      <td>0</td>\n",
       "    </tr>\n",
       "    <tr>\n",
       "      <th>2617</th>\n",
       "      <td>Home Mortgage</td>\n",
       "      <td>3217802.0</td>\n",
       "      <td>10+ years</td>\n",
       "      <td>0.0</td>\n",
       "      <td>12.0</td>\n",
       "      <td>35.5</td>\n",
       "      <td>50000000.0</td>\n",
       "      <td>0.0</td>\n",
       "      <td>NaN</td>\n",
       "      <td>0.0</td>\n",
       "      <td>other</td>\n",
       "      <td>Short Term</td>\n",
       "      <td>50116.0</td>\n",
       "      <td>1834450.0</td>\n",
       "      <td>20272.0</td>\n",
       "      <td>750.0</td>\n",
       "      <td>0</td>\n",
       "    </tr>\n",
       "    <tr>\n",
       "      <th>2763</th>\n",
       "      <td>Home Mortgage</td>\n",
       "      <td>3377440.0</td>\n",
       "      <td>10+ years</td>\n",
       "      <td>0.0</td>\n",
       "      <td>11.0</td>\n",
       "      <td>23.2</td>\n",
       "      <td>40923894.0</td>\n",
       "      <td>0.0</td>\n",
       "      <td>59.0</td>\n",
       "      <td>0.0</td>\n",
       "      <td>home improvements</td>\n",
       "      <td>Short Term</td>\n",
       "      <td>309573.0</td>\n",
       "      <td>1908550.0</td>\n",
       "      <td>5770.0</td>\n",
       "      <td>743.0</td>\n",
       "      <td>0</td>\n",
       "    </tr>\n",
       "  </tbody>\n",
       "</table>\n",
       "</div>"
      ],
      "text/plain": [
       "     Home Ownership  Annual Income Years in current job  Tax Liens  \\\n",
       "44    Have Mortgage      1334256.0            10+ years        0.0   \n",
       "617   Home Mortgage            NaN              3 years        0.0   \n",
       "2023           Rent      1342825.0            10+ years        0.0   \n",
       "2617  Home Mortgage      3217802.0            10+ years        0.0   \n",
       "2763  Home Mortgage      3377440.0            10+ years        0.0   \n",
       "\n",
       "      Number of Open Accounts  Years of Credit History  Maximum Open Credit  \\\n",
       "44                       17.0                     15.4           50000000.0   \n",
       "617                      13.0                     27.5           50000000.0   \n",
       "2023                     12.0                     16.3           50000000.0   \n",
       "2617                     12.0                     35.5           50000000.0   \n",
       "2763                     11.0                     23.2           40923894.0   \n",
       "\n",
       "      Number of Credit Problems  Months since last delinquent  Bankruptcies  \\\n",
       "44                          1.0                          35.0           0.0   \n",
       "617                         0.0                           NaN           0.0   \n",
       "2023                        0.0                           NaN           0.0   \n",
       "2617                        0.0                           NaN           0.0   \n",
       "2763                        0.0                          59.0           0.0   \n",
       "\n",
       "                 Purpose        Term  Current Loan Amount  \\\n",
       "44           take a trip  Short Term              33110.0   \n",
       "617   debt consolidation  Short Term             529892.0   \n",
       "2023               other  Short Term             166826.0   \n",
       "2617               other  Short Term              50116.0   \n",
       "2763   home improvements  Short Term             309573.0   \n",
       "\n",
       "      Current Credit Balance  Monthly Debt  Credit Score  Credit Default  \n",
       "44                  656450.0       34357.0         729.0               0  \n",
       "617                1126814.0        5492.0           NaN               0  \n",
       "2023                944547.0        9176.0         749.0               0  \n",
       "2617               1834450.0       20272.0         750.0               0  \n",
       "2763               1908550.0        5770.0         743.0               0  "
      ]
     },
     "execution_count": 11,
     "metadata": {},
     "output_type": "execute_result"
    }
   ],
   "source": [
    "bank_db.loc[bank_db['Maximum Open Credit'] >40000000, :] "
   ]
  },
  {
   "cell_type": "code",
   "execution_count": 12,
   "metadata": {},
   "outputs": [],
   "source": [
    "bank_db['Term'].replace({'Short Term':1, 'Long Term':0}, inplace=True)\n",
    "bank_db_test['Term'].replace({'Short Term':1, 'Long Term':0}, inplace=True)"
   ]
  },
  {
   "cell_type": "code",
   "execution_count": 13,
   "metadata": {},
   "outputs": [],
   "source": [
    "bank_db['Home Ownership'].replace({'Home Mortgage':0, 'Rent':1,\n",
    "                                   'Own Home':2,'Have Mortgage':3 }, inplace=True)\n",
    "bank_db_test['Home Ownership'].replace({'Home Mortgage':0, 'Rent':1,\n",
    "                                   'Own Home':2,'Have Mortgage':3 }, inplace=True)"
   ]
  },
  {
   "cell_type": "markdown",
   "metadata": {},
   "source": [
    "**filling in nulls**"
   ]
  },
  {
   "cell_type": "code",
   "execution_count": 14,
   "metadata": {},
   "outputs": [
    {
     "data": {
      "text/plain": [
       "0    10+ years\n",
       "dtype: object"
      ]
     },
     "execution_count": 14,
     "metadata": {},
     "output_type": "execute_result"
    }
   ],
   "source": [
    "bank_db_test['Years in current job'].mode()"
   ]
  },
  {
   "cell_type": "code",
   "execution_count": 15,
   "metadata": {},
   "outputs": [],
   "source": [
    "# Years in current job\n",
    "bank_db['Years in current job'] = bank_db['Years in current job'].fillna('10+ years')\n",
    "bank_db_test['Years in current job'] = bank_db_test['Years in current job'].fillna('10+ years')"
   ]
  },
  {
   "cell_type": "code",
   "execution_count": 16,
   "metadata": {},
   "outputs": [],
   "source": [
    "bank_db['Years in current job'].replace({'< 1 year': '0'}, inplace=True)\n",
    "bank_db_test['Years in current job'].replace({'< 1 year': '0'}, inplace=True)"
   ]
  },
  {
   "cell_type": "code",
   "execution_count": 17,
   "metadata": {},
   "outputs": [],
   "source": [
    "#extracting years to int\n",
    "bank_db.loc[bank_db['Years in current job'].notnull()\n",
    "            , ['Years in current job']] = bank_db['Years in current job'].str.findall('([0-9]+)')\n",
    "\n",
    "for i in range(len(bank_db['Years in current job'])):\n",
    "    if type(bank_db.loc[i, 'Years in current job'])== list:\n",
    "        bank_db.loc[i, 'Years in current job'] = ''.join(bank_db.loc[(i), 'Years in current job'])"
   ]
  },
  {
   "cell_type": "code",
   "execution_count": 18,
   "metadata": {},
   "outputs": [],
   "source": [
    "bank_db_test.loc[bank_db_test['Years in current job'].notnull()\n",
    "            , ['Years in current job']] = bank_db_test['Years in current job'].str.findall('([0-9]+)')\n",
    "\n",
    "for i in range(len(bank_db_test['Years in current job'])):\n",
    "    if type(bank_db_test.loc[i, 'Years in current job'])== list:\n",
    "        bank_db_test.loc[i, 'Years in current job'] = ''.join(bank_db_test.loc[(i), 'Years in current job'])"
   ]
  },
  {
   "cell_type": "code",
   "execution_count": 19,
   "metadata": {},
   "outputs": [
    {
     "data": {
      "text/plain": [
       "0        4\n",
       "1        1\n",
       "2        3\n",
       "3       10\n",
       "4        6\n",
       "        ..\n",
       "2495    10\n",
       "2496     2\n",
       "2497     2\n",
       "2498    10\n",
       "2499    10\n",
       "Name: Years in current job, Length: 2500, dtype: int32"
      ]
     },
     "execution_count": 19,
     "metadata": {},
     "output_type": "execute_result"
    }
   ],
   "source": [
    "bank_db['Years in current job'].astype(int)\n",
    "bank_db_test['Years in current job'].astype(int)"
   ]
  },
  {
   "cell_type": "code",
   "execution_count": 20,
   "metadata": {},
   "outputs": [],
   "source": [
    "#Months since last delinquent\n",
    "bank_db['Months since last delinquent'] = bank_db['Months since last delinquent'].fillna(-1)\n",
    "bank_db_test['Months since last delinquent'] = bank_db_test['Months since last delinquent'].fillna(-1)"
   ]
  },
  {
   "cell_type": "code",
   "execution_count": 21,
   "metadata": {},
   "outputs": [],
   "source": [
    "# Bankruptcies\n",
    "bank_db['Bankruptcies'] = bank_db['Bankruptcies'].fillna(0)\n",
    "bank_db_test['Bankruptcies'] = bank_db_test['Bankruptcies'].fillna(0)"
   ]
  },
  {
   "cell_type": "code",
   "execution_count": 22,
   "metadata": {},
   "outputs": [],
   "source": [
    "# Annual income\n",
    "numeric_features_nonnull = ['Years in current job', 'Number of Open Accounts', 'Years of Credit History', 'Maximum Open Credit', 'Number of Credit Problems',\n",
    "                   'Current Loan Amount', 'Current Credit Balance', 'Monthly Debt']"
   ]
  },
  {
   "cell_type": "markdown",
   "metadata": {},
   "source": [
    "**trying prediction for Annual income nulls**"
   ]
  },
  {
   "cell_type": "code",
   "execution_count": 23,
   "metadata": {},
   "outputs": [],
   "source": [
    "db_features = bank_db.loc[bank_db['Annual Income'].notnull(), numeric_features_nonnull]\n",
    "db_target = pd.DataFrame(bank_db.loc[bank_db['Annual Income'].notnull(), 'Annual Income'])"
   ]
  },
  {
   "cell_type": "code",
   "execution_count": 24,
   "metadata": {},
   "outputs": [],
   "source": [
    "X_train, X_test, y_train, y_test = train_test_split(db_features,\n",
    "                                                        db_target,  test_size=0.3, random_state=42)"
   ]
  },
  {
   "cell_type": "code",
   "execution_count": 25,
   "metadata": {},
   "outputs": [
    {
     "data": {
      "text/plain": [
       "RandomForestRegressor(bootstrap=True, ccp_alpha=0.0, criterion='mse',\n",
       "                      max_depth=10, max_features=3, max_leaf_nodes=None,\n",
       "                      max_samples=None, min_impurity_decrease=0.0,\n",
       "                      min_impurity_split=None, min_samples_leaf=1,\n",
       "                      min_samples_split=2, min_weight_fraction_leaf=0.0,\n",
       "                      n_estimators=250, n_jobs=None, oob_score=False,\n",
       "                      random_state=100, verbose=0, warm_start=False)"
      ]
     },
     "execution_count": 25,
     "metadata": {},
     "output_type": "execute_result"
    }
   ],
   "source": [
    "rfr_bank = rfr(max_depth=10, max_features=3, n_estimators=250, random_state=100)\n",
    "#rfr_bank.fit(X_train_scaled, y_train.values.ravel())\n",
    "rfr_bank.fit(X_train, y_train.values.ravel())"
   ]
  },
  {
   "cell_type": "code",
   "execution_count": 26,
   "metadata": {},
   "outputs": [],
   "source": [
    "#y_pred1 = rfr_bank.predict(X_test_scaled)\n",
    "y_pred1 = rfr_bank.predict(X_test)"
   ]
  },
  {
   "cell_type": "code",
   "execution_count": 27,
   "metadata": {},
   "outputs": [
    {
     "data": {
      "text/plain": [
       "0.4021366183531164"
      ]
     },
     "execution_count": 27,
     "metadata": {},
     "output_type": "execute_result"
    }
   ],
   "source": [
    "r2_score(y_test, y_pred1)"
   ]
  },
  {
   "cell_type": "code",
   "execution_count": 28,
   "metadata": {},
   "outputs": [],
   "source": [
    "#Annual Income nulls with median\n",
    "bank_db['Annual Income'] = bank_db['Annual Income'].fillna(bank_db['Annual Income'].median())\n",
    "bank_db_test['Annual Income'] = bank_db_test['Annual Income'].fillna(bank_db_test['Annual Income'].median())"
   ]
  },
  {
   "cell_type": "markdown",
   "metadata": {},
   "source": [
    "**trying prediction for Credit Score with RFC**"
   ]
  },
  {
   "cell_type": "code",
   "execution_count": 29,
   "metadata": {},
   "outputs": [],
   "source": [
    "#forming binary credit score in train and test\n",
    "bank_db['Credit Score Bin'] = np.nan\n",
    "bank_db.loc[(bank_db['Credit Score'] > 670) | (bank_db['Credit Score'] < 1000), 'Credit Score Bin'] = 0\n",
    "bank_db.loc[(bank_db['Credit Score'] <= 670) | (bank_db['Credit Score'] >= 1000), 'Credit Score Bin'] = 1\n",
    "\n",
    "bank_db_test['Credit Score Bin'] = np.nan\n",
    "bank_db_test.loc[(bank_db_test['Credit Score'] > 670) | (bank_db_test['Credit Score'] < 1000), 'Credit Score Bin'] = 0\n",
    "bank_db_test.loc[(bank_db_test['Credit Score'] <= 670) | (bank_db_test['Credit Score'] >= 1000), 'Credit Score Bin'] = 1"
   ]
  },
  {
   "cell_type": "code",
   "execution_count": 30,
   "metadata": {},
   "outputs": [],
   "source": [
    "numeric_features_nonnull_2 = ['Annual Income', 'Number of Open Accounts', 'Years of Credit History', \n",
    "                              'Maximum Open Credit', 'Number of Credit Problems',\n",
    "                              'Current Loan Amount', 'Current Credit Balance', 'Monthly Debt']"
   ]
  },
  {
   "cell_type": "code",
   "execution_count": 31,
   "metadata": {},
   "outputs": [],
   "source": [
    "#Credit Score in binary form as target\n",
    "db_features_crsc = bank_db.loc[bank_db['Credit Score Bin'].notnull(), numeric_features_nonnull_2]\n",
    "db_target_crsc = pd.DataFrame(bank_db.loc[bank_db['Credit Score Bin'].notnull(), 'Credit Score Bin'])"
   ]
  },
  {
   "cell_type": "code",
   "execution_count": 32,
   "metadata": {},
   "outputs": [
    {
     "data": {
      "text/plain": [
       "0.0    5176\n",
       "1.0     767\n",
       "Name: Credit Score Bin, dtype: int64"
      ]
     },
     "execution_count": 32,
     "metadata": {},
     "output_type": "execute_result"
    }
   ],
   "source": [
    "db_target_crsc['Credit Score Bin'].value_counts()"
   ]
  },
  {
   "cell_type": "code",
   "execution_count": 33,
   "metadata": {},
   "outputs": [],
   "source": [
    "X_train_2, X_test_2, y_train_2, y_test_2 = train_test_split(db_features_crsc, db_target_crsc, \n",
    "                                                    test_size=0.3, random_state=42)"
   ]
  },
  {
   "cell_type": "markdown",
   "metadata": {},
   "source": [
    "**balancing classes in Credit Score Bin**"
   ]
  },
  {
   "cell_type": "code",
   "execution_count": 34,
   "metadata": {},
   "outputs": [],
   "source": [
    "concat_to_balance = pd.concat([X_train_2, y_train_2], axis=1)"
   ]
  },
  {
   "cell_type": "code",
   "execution_count": 35,
   "metadata": {},
   "outputs": [],
   "source": [
    "minor_class = concat_to_balance[concat_to_balance['Credit Score Bin'] == 1]\n",
    "major_class = concat_to_balance[concat_to_balance['Credit Score Bin'] == 0]"
   ]
  },
  {
   "cell_type": "code",
   "execution_count": 36,
   "metadata": {},
   "outputs": [
    {
     "data": {
      "text/plain": [
       "558"
      ]
     },
     "execution_count": 36,
     "metadata": {},
     "output_type": "execute_result"
    }
   ],
   "source": [
    "len(minor_class)"
   ]
  },
  {
   "cell_type": "code",
   "execution_count": 37,
   "metadata": {},
   "outputs": [
    {
     "data": {
      "text/plain": [
       "3602"
      ]
     },
     "execution_count": 37,
     "metadata": {},
     "output_type": "execute_result"
    }
   ],
   "source": [
    "len(major_class)"
   ]
  },
  {
   "cell_type": "code",
   "execution_count": 38,
   "metadata": {},
   "outputs": [],
   "source": [
    "#oversampling\n",
    "minor_class_balanced = minor_class.copy()\n",
    "for i in range(int(len(major_class)/len(minor_class)) * 4-1):\n",
    "    sample = minor_class.sample(frac=0.25)\n",
    "    minor_class_balanced = minor_class_balanced.append(sample, ignore_index=True)\n"
   ]
  },
  {
   "cell_type": "code",
   "execution_count": 39,
   "metadata": {},
   "outputs": [
    {
     "data": {
      "text/plain": [
       "1.0    3778\n",
       "0.0    3602\n",
       "Name: Credit Score Bin, dtype: int64"
      ]
     },
     "execution_count": 39,
     "metadata": {},
     "output_type": "execute_result"
    }
   ],
   "source": [
    "df_oversampling = pd.concat([major_class, minor_class_balanced], axis=0, ignore_index=True, sort=False)\n",
    "df_oversampling['Credit Score Bin'].value_counts()"
   ]
  },
  {
   "cell_type": "code",
   "execution_count": 40,
   "metadata": {},
   "outputs": [],
   "source": [
    "df_oversampling_x = df_oversampling.drop(columns='Credit Score Bin')\n",
    "df_oversampling_y = df_oversampling['Credit Score Bin']"
   ]
  },
  {
   "cell_type": "code",
   "execution_count": 41,
   "metadata": {},
   "outputs": [],
   "source": [
    "#RFC"
   ]
  },
  {
   "cell_type": "code",
   "execution_count": 42,
   "metadata": {},
   "outputs": [
    {
     "data": {
      "text/plain": [
       "RandomForestClassifier(bootstrap=True, ccp_alpha=0.0, class_weight=None,\n",
       "                       criterion='gini', max_depth=10, max_features=3,\n",
       "                       max_leaf_nodes=None, max_samples=None,\n",
       "                       min_impurity_decrease=0.0, min_impurity_split=None,\n",
       "                       min_samples_leaf=1, min_samples_split=2,\n",
       "                       min_weight_fraction_leaf=0.0, n_estimators=250,\n",
       "                       n_jobs=None, oob_score=False, random_state=100,\n",
       "                       verbose=0, warm_start=False)"
      ]
     },
     "execution_count": 42,
     "metadata": {},
     "output_type": "execute_result"
    }
   ],
   "source": [
    "rfc_bank = rfc(max_depth=10, max_features=3, n_estimators=250, random_state=100)\n",
    "rfc_bank.fit(df_oversampling_x, df_oversampling_y.values.ravel())"
   ]
  },
  {
   "cell_type": "code",
   "execution_count": 43,
   "metadata": {},
   "outputs": [],
   "source": [
    "y_pred2 = rfc_bank.predict(X_test_2)"
   ]
  },
  {
   "cell_type": "code",
   "execution_count": 44,
   "metadata": {},
   "outputs": [
    {
     "data": {
      "text/plain": [
       "0.190625"
      ]
     },
     "execution_count": 44,
     "metadata": {},
     "output_type": "execute_result"
    }
   ],
   "source": [
    "precision_score(y_test_2, y_pred2)"
   ]
  },
  {
   "cell_type": "code",
   "execution_count": 45,
   "metadata": {},
   "outputs": [
    {
     "data": {
      "text/plain": [
       "0.23062381852551986"
      ]
     },
     "execution_count": 45,
     "metadata": {},
     "output_type": "execute_result"
    }
   ],
   "source": [
    "f1_score(y_test_2, y_pred2)"
   ]
  },
  {
   "cell_type": "code",
   "execution_count": 46,
   "metadata": {},
   "outputs": [],
   "source": [
    "# filling in with a mode\n",
    "bank_db['Credit Score Bin'] = bank_db['Credit Score Bin'].fillna(0)\n",
    "bank_db_test['Credit Score Bin'] = bank_db_test['Credit Score Bin'].fillna(0)"
   ]
  },
  {
   "cell_type": "code",
   "execution_count": 47,
   "metadata": {},
   "outputs": [],
   "source": [
    "bank_db['Credit Score Bin'] = bank_db['Credit Score Bin'].astype(int)\n",
    "bank_db_test['Credit Score Bin'] = bank_db_test['Credit Score Bin'].astype(int)"
   ]
  },
  {
   "cell_type": "code",
   "execution_count": 48,
   "metadata": {},
   "outputs": [
    {
     "name": "stdout",
     "output_type": "stream",
     "text": [
      "<class 'pandas.core.frame.DataFrame'>\n",
      "RangeIndex: 7500 entries, 0 to 7499\n",
      "Data columns (total 18 columns):\n",
      "Home Ownership                  7500 non-null int64\n",
      "Annual Income                   7500 non-null float64\n",
      "Years in current job            7500 non-null object\n",
      "Tax Liens                       7500 non-null float64\n",
      "Number of Open Accounts         7500 non-null float64\n",
      "Years of Credit History         7500 non-null float64\n",
      "Maximum Open Credit             7500 non-null float64\n",
      "Number of Credit Problems       7500 non-null float64\n",
      "Months since last delinquent    7500 non-null float64\n",
      "Bankruptcies                    7500 non-null float64\n",
      "Purpose                         7500 non-null object\n",
      "Term                            7500 non-null int64\n",
      "Current Loan Amount             7500 non-null float64\n",
      "Current Credit Balance          7500 non-null float64\n",
      "Monthly Debt                    7500 non-null float64\n",
      "Credit Score                    5943 non-null float64\n",
      "Credit Default                  7500 non-null int64\n",
      "Credit Score Bin                7500 non-null int32\n",
      "dtypes: float64(12), int32(1), int64(3), object(2)\n",
      "memory usage: 1.0+ MB\n"
     ]
    }
   ],
   "source": [
    "bank_db.info()"
   ]
  },
  {
   "cell_type": "code",
   "execution_count": 49,
   "metadata": {},
   "outputs": [],
   "source": [
    "features_for_catboost_num = ['Annual Income', 'Years in current job', 'Number of Open Accounts',\n",
    "                             'Years of Credit History', 'Maximum Open Credit',\n",
    "                             'Number of Credit Problems', 'Months since last delinquent', 'Bankruptcies',\n",
    "                             'Current Loan Amount', 'Current Credit Balance', 'Monthly Debt']\n",
    "features_for_catboost_cat = ['Home Ownership','Term', 'Credit Score Bin']"
   ]
  },
  {
   "cell_type": "code",
   "execution_count": 50,
   "metadata": {},
   "outputs": [],
   "source": [
    "df_for_train = bank_db.drop(columns=['Tax Liens','Purpose','Credit Score'])\n",
    "df_for_test = bank_db_test.drop(columns=['Tax Liens','Purpose','Credit Score'])"
   ]
  },
  {
   "cell_type": "code",
   "execution_count": 51,
   "metadata": {},
   "outputs": [
    {
     "data": {
      "text/plain": [
       "array([0.69612029, 1.77472788])"
      ]
     },
     "execution_count": 51,
     "metadata": {},
     "output_type": "execute_result"
    }
   ],
   "source": [
    "compute_class_weight('balanced', np.array([0, 1]), df_for_train['Credit Default'])"
   ]
  },
  {
   "cell_type": "markdown",
   "metadata": {},
   "source": [
    "**train and valid**"
   ]
  },
  {
   "cell_type": "code",
   "execution_count": 52,
   "metadata": {},
   "outputs": [],
   "source": [
    "X = df_for_train.drop(columns='Credit Default')\n",
    "y = df_for_train['Credit Default']\n",
    "\n",
    "X_train, X_valid, y_train, y_valid = train_test_split(X, y, shuffle=True, test_size=0.3, random_state=21)"
   ]
  },
  {
   "cell_type": "markdown",
   "metadata": {},
   "source": [
    "**catboost**"
   ]
  },
  {
   "cell_type": "code",
   "execution_count": 53,
   "metadata": {},
   "outputs": [
    {
     "data": {
      "text/plain": [
       "<catboost.core.CatBoostClassifier at 0x2817857bcc0>"
      ]
     },
     "execution_count": 53,
     "metadata": {},
     "output_type": "execute_result"
    }
   ],
   "source": [
    "model_catboost = catboost.CatBoostClassifier(max_depth=4, class_weights=[0.7, 1.77], silent=True, random_state=21, cat_features=features_for_catboost_cat)\n",
    "model_catboost.fit(X_train, y_train)"
   ]
  },
  {
   "cell_type": "code",
   "execution_count": 54,
   "metadata": {},
   "outputs": [],
   "source": [
    "y_train_pred = model_catboost.predict(X_train)\n",
    "y_valid_predict = model_catboost.predict(X_valid)"
   ]
  },
  {
   "cell_type": "code",
   "execution_count": 55,
   "metadata": {},
   "outputs": [
    {
     "name": "stdout",
     "output_type": "stream",
     "text": [
      "TRAIN\n",
      "\n",
      "              precision    recall  f1-score   support\n",
      "\n",
      "           0       0.90      0.81      0.85      3771\n",
      "           1       0.61      0.78      0.69      1479\n",
      "\n",
      "    accuracy                           0.80      5250\n",
      "   macro avg       0.76      0.79      0.77      5250\n",
      "weighted avg       0.82      0.80      0.81      5250\n",
      "\n"
     ]
    }
   ],
   "source": [
    " print('TRAIN\\n\\n' + classification_report(y_train, y_train_pred))"
   ]
  },
  {
   "cell_type": "code",
   "execution_count": 56,
   "metadata": {},
   "outputs": [
    {
     "name": "stdout",
     "output_type": "stream",
     "text": [
      "VALID\n",
      "\n",
      "              precision    recall  f1-score   support\n",
      "\n",
      "           0       0.83      0.74      0.78      1616\n",
      "           1       0.48      0.61      0.54       634\n",
      "\n",
      "    accuracy                           0.70      2250\n",
      "   macro avg       0.66      0.68      0.66      2250\n",
      "weighted avg       0.73      0.70      0.71      2250\n",
      "\n"
     ]
    }
   ],
   "source": [
    " print('VALID\\n\\n' + classification_report(y_valid, y_valid_predict))"
   ]
  },
  {
   "cell_type": "code",
   "execution_count": 57,
   "metadata": {},
   "outputs": [],
   "source": [
    "y_test_predict = model_catboost.predict(df_for_test)"
   ]
  },
  {
   "cell_type": "code",
   "execution_count": 58,
   "metadata": {},
   "outputs": [],
   "source": [
    "bank_db_test['Credit Default'] = y_test_predict"
   ]
  },
  {
   "cell_type": "code",
   "execution_count": 59,
   "metadata": {},
   "outputs": [],
   "source": [
    "bank_db_test.loc[:, 'Credit Default'].to_pickle('D:/AI/_Python/Python_for_DS/bank_predictions.pkl')"
   ]
  },
  {
   "cell_type": "code",
   "execution_count": null,
   "metadata": {},
   "outputs": [],
   "source": []
  }
 ],
 "metadata": {
  "kernelspec": {
   "display_name": "Python 3",
   "language": "python",
   "name": "python3"
  },
  "language_info": {
   "codemirror_mode": {
    "name": "ipython",
    "version": 3
   },
   "file_extension": ".py",
   "mimetype": "text/x-python",
   "name": "python",
   "nbconvert_exporter": "python",
   "pygments_lexer": "ipython3",
   "version": "3.7.1"
  }
 },
 "nbformat": 4,
 "nbformat_minor": 2
}
